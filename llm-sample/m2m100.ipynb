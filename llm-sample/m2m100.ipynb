{
 "cells": [
  {
   "cell_type": "markdown",
   "metadata": {},
   "source": [
    "# facebook/m2m100_1.2B\n",
    "\n",
    "<https://huggingface.co/facebook/m2m100_1.2B>\n",
    "\n",
    "M2M100 is a multilingual encoder-decoder (seq-to-seq) model trained for Many-to-Many multilingual translation. It was introduced in this paper and first released in this repository."
   ]
  },
  {
   "cell_type": "code",
   "execution_count": 1,
   "metadata": {},
   "outputs": [
    {
     "name": "stderr",
     "output_type": "stream",
     "text": [
      "c:\\Users\\hamada\\workspace\\test\\llm\\.venv\\Lib\\site-packages\\tqdm\\auto.py:21: TqdmWarning: IProgress not found. Please update jupyter and ipywidgets. See https://ipywidgets.readthedocs.io/en/stable/user_install.html\n",
      "  from .autonotebook import tqdm as notebook_tqdm\n",
      "config.json: 100%|██████████| 909/909 [00:00<?, ?B/s] \n",
      "c:\\Users\\hamada\\workspace\\test\\llm\\.venv\\Lib\\site-packages\\huggingface_hub\\file_download.py:149: UserWarning: `huggingface_hub` cache-system uses symlinks by default to efficiently store duplicated files but your machine does not support them in C:\\Users\\hamada\\.cache\\huggingface\\hub\\models--facebook--m2m100_1.2B. Caching files will still work but in a degraded version that might require more space on your disk. This warning can be disabled by setting the `HF_HUB_DISABLE_SYMLINKS_WARNING` environment variable. For more details, see https://huggingface.co/docs/huggingface_hub/how-to-cache#limitations.\n",
      "To support symlinks on Windows, you either need to activate Developer Mode or to run Python as an administrator. In order to see activate developer mode, see this article: https://docs.microsoft.com/en-us/windows/apps/get-started/enable-your-device-for-development\n",
      "  warnings.warn(message)\n",
      "pytorch_model.bin: 100%|██████████| 4.96G/4.96G [06:55<00:00, 11.9MB/s]\n",
      "generation_config.json: 100%|██████████| 233/233 [00:00<?, ?B/s] \n",
      "tokenizer_config.json: 100%|██████████| 271/271 [00:00<?, ?B/s] \n",
      "vocab.json: 100%|██████████| 3.71M/3.71M [00:01<00:00, 3.52MB/s]\n",
      "sentencepiece.bpe.model: 100%|██████████| 2.42M/2.42M [00:00<00:00, 9.57MB/s]\n",
      "special_tokens_map.json: 100%|██████████| 1.14k/1.14k [00:00<00:00, 1.14MB/s]\n"
     ]
    }
   ],
   "source": [
    "from transformers import M2M100ForConditionalGeneration, M2M100Tokenizer\n",
    "\n",
    "\n",
    "model = M2M100ForConditionalGeneration.from_pretrained(\"facebook/m2m100_1.2B\")\n",
    "tokenizer = M2M100Tokenizer.from_pretrained(\"facebook/m2m100_1.2B\")"
   ]
  },
  {
   "cell_type": "code",
   "execution_count": 2,
   "metadata": {},
   "outputs": [
    {
     "data": {
      "text/plain": [
       "['If the View constructor requests ViewModel as an argument, it passes the ViewModel for this method argument.']"
      ]
     },
     "execution_count": 2,
     "metadata": {},
     "output_type": "execute_result"
    }
   ],
   "source": [
    "ja_text = \"View のコンストラクタが引数として ViewModel を要求する場合は、このメソッド引数の ViewModel を渡します。\"\n",
    "\n",
    "# translate Japanese to English\n",
    "tokenizer.src_lang = \"ja\"\n",
    "encoded_prompt = tokenizer(ja_text, return_tensors=\"pt\")\n",
    "generated_tokens = model.generate(**encoded_prompt, forced_bos_token_id=tokenizer.get_lang_id(\"en\"))\n",
    "tokenizer.batch_decode(generated_tokens, skip_special_tokens=True)"
   ]
  },
  {
   "cell_type": "code",
   "execution_count": 6,
   "metadata": {},
   "outputs": [
    {
     "name": "stdout",
     "output_type": "stream",
     "text": [
      "input: 指定された ID に紐づけられた型を取得する\n",
      "\n",
      "['Get the type linked to the specified ID.']\n",
      "\n",
      "===\n",
      "\n",
      "input: View のコンストラクタが引数として ViewModel を要求する場合は、このメソッド引数の ViewModel を渡します。\n",
      "\n",
      "['If the View constructor requests ViewModel as an argument, it passes the ViewModel for this method argument.']\n",
      "\n",
      "===\n",
      "\n",
      "input: カメラの動作状態を格納するクラスです。\n",
      "\n",
      "['This is a class that stores the camera’s operating state.']\n",
      "\n",
      "===\n",
      "\n",
      "input: IN/OUT状態を表す列挙型です。\n",
      "\n",
      "['The in/out status is listed.']\n",
      "\n",
      "===\n",
      "\n",
      "input: 指定された型に対する登録が複数ある場合のための、登録内容を識別する名前 (キー)\n",
      "\n",
      "['Name (key) for identifying the contents of the register when there are multiple registrations for the specified type.']\n",
      "\n",
      "===\n",
      "\n",
      "input: 登録されていれば <a href=\"https://learn.microsoft.com/dotnet/csharp/language-reference/builtin-types/bool\">true</a> を返し、そうでない場合は <a href=\"https://learn.microsoft.com/dotnet/csharp/language-reference/builtin-types/bool\">false</a> を返します。\n",
      "\n",
      "['If you are registered, return <a href=\"https://learn.microsoft.com/dotnet/csharp/language-reference/builtin-types/bool\">true, and if not, return <a href=\"https://learn.microsoft.com/dotnet/csharp/language-reference/builtin-types/bool\">false</a>.']\n",
      "\n",
      "===\n",
      "\n",
      "input: 指定された実装型を、指定された型に紐づけて、ライフライクル (スコープ) を Singleton として、コンテナに登録する\n",
      "\n",
      "['A specified implementation type is linked to the specified type and the lifecycle (scope) is registered as Singleton in the container.']\n",
      "\n",
      "===\n",
      "\n",
      "input: 登録されていれば\n",
      "\n",
      "['If it is registered.']\n",
      "\n",
      "===\n",
      "\n",
      "input: true\n",
      "\n",
      "['true']\n",
      "\n",
      "===\n",
      "\n",
      "input: を返し、そうでない場合は\n",
      "\n",
      "['Return it, if not.']\n",
      "\n",
      "===\n",
      "\n",
      "input: false\n",
      "\n",
      "['false']\n",
      "\n",
      "===\n",
      "\n",
      "input: を返します。\n",
      "\n",
      "['I give it back.']\n",
      "\n",
      "===\n",
      "\n"
     ]
    }
   ],
   "source": [
    "# read input file\n",
    "file_name = \"../inputs.txt\"\n",
    "with open(file_name, \"r\", encoding=\"utf-8\") as f:\n",
    "    lines = f.readlines()\n",
    "\n",
    "for line in lines:\n",
    "    tokenizer.src_lang = \"ja\"\n",
    "    encoded_prompt = tokenizer(line, return_tensors=\"pt\")\n",
    "\n",
    "    tokens = model.generate(\n",
    "        **encoded_prompt,\n",
    "        forced_bos_token_id=tokenizer.get_lang_id(\"en\"),\n",
    "        max_new_tokens=512,\n",
    "        temperature=0.99,\n",
    "        top_p=0.95,\n",
    "        top_k=0,\n",
    "        do_sample=True,\n",
    "    )\n",
    "\n",
    "    out = tokenizer.batch_decode(tokens, skip_special_tokens=True)\n",
    "    print(f\"input: {line}\")\n",
    "    print(out)\n",
    "    print(\"\\n===\\n\")"
   ]
  }
 ],
 "metadata": {
  "kernelspec": {
   "display_name": ".venv",
   "language": "python",
   "name": "python3"
  },
  "language_info": {
   "codemirror_mode": {
    "name": "ipython",
    "version": 3
   },
   "file_extension": ".py",
   "mimetype": "text/x-python",
   "name": "python",
   "nbconvert_exporter": "python",
   "pygments_lexer": "ipython3",
   "version": "3.11.5"
  }
 },
 "nbformat": 4,
 "nbformat_minor": 2
}
