{
 "cells": [
  {
   "cell_type": "markdown",
   "metadata": {},
   "source": [
    "<https://huggingface.co/tokyotech-llm/Swallow-13b-instruct-hf>"
   ]
  },
  {
   "cell_type": "code",
   "execution_count": 1,
   "metadata": {},
   "outputs": [
    {
     "name": "stderr",
     "output_type": "stream",
     "text": [
      "c:\\Users\\hamada\\workspace\\test\\llm\\.venv\\Lib\\site-packages\\tqdm\\auto.py:21: TqdmWarning: IProgress not found. Please update jupyter and ipywidgets. See https://ipywidgets.readthedocs.io/en/stable/user_install.html\n",
      "  from .autonotebook import tqdm as notebook_tqdm\n"
     ]
    }
   ],
   "source": [
    "import torch\n",
    "from transformers import AutoTokenizer, AutoModelForCausalLM"
   ]
  },
  {
   "cell_type": "code",
   "execution_count": 3,
   "metadata": {},
   "outputs": [
    {
     "name": "stderr",
     "output_type": "stream",
     "text": [
      "model-00003-of-00003.safetensors: 100%|██████████| 3.77G/3.77G [03:31<00:00, 17.8MB/s]\n",
      "Downloading shards: 100%|██████████| 3/3 [03:33<00:00, 71.03s/it]\n",
      "Loading checkpoint shards: 100%|██████████| 3/3 [00:06<00:00,  2.12s/it]\n",
      "generation_config.json: 100%|██████████| 203/203 [00:00<00:00, 204kB/s]\n"
     ]
    }
   ],
   "source": [
    "model_name = \"tokyotech-llm/Swallow-7b-instruct-hf\"\n",
    "\n",
    "tokenizer = AutoTokenizer.from_pretrained(model_name)\n",
    "model = AutoModelForCausalLM.from_pretrained(model_name, torch_dtype=torch.bfloat16, low_cpu_mem_usage=True, device_map=\"auto\")"
   ]
  },
  {
   "cell_type": "code",
   "execution_count": 4,
   "metadata": {},
   "outputs": [],
   "source": [
    "PROMPT_DICT = {\n",
    "    \"prompt_input\": (\n",
    "        \"以下に、あるタスクを説明する指示があり、それに付随する入力が更なる文脈を提供しています。\"\n",
    "        \"リクエストを適切に完了するための回答を記述してください。\\n\\n\"\n",
    "        \"### 指示:\\n{instruction}\\n\\n### 入力:\\n{input}\\n\\n### 応答:\"\n",
    "\n",
    "    ),\n",
    "    \"prompt_no_input\": (\n",
    "        \"以下に、あるタスクを説明する指示があります。\"\n",
    "        \"リクエストを適切に完了するための回答を記述してください。\\n\\n\"\n",
    "        \"### 指示:\\n{instruction}\\n\\n### 応答:\"\n",
    "    ),\n",
    "}\n",
    "\n",
    "\n",
    "def create_prompt(instruction, input=None):\n",
    "    \"\"\"\n",
    "    Generates a prompt based on the given instruction and an optional input.\n",
    "    If input is provided, it uses the 'prompt_input' template from PROMPT_DICT.\n",
    "    If no input is provided, it uses the 'prompt_no_input' template.\n",
    "\n",
    "    Args:\n",
    "        instruction (str): The instruction describing the task.\n",
    "        input (str, optional): Additional input providing context for the task. Default is None.\n",
    "\n",
    "    Returns:\n",
    "        str: The generated prompt.\n",
    "    \"\"\"\n",
    "    if input:\n",
    "        # Use the 'prompt_input' template when additional input is provided\n",
    "        return PROMPT_DICT[\"prompt_input\"].format(instruction=instruction, input=input)\n",
    "    else:\n",
    "        # Use the 'prompt_no_input' template when no additional input is provided\n",
    "        return PROMPT_DICT[\"prompt_no_input\"].format(instruction=instruction)"
   ]
  },
  {
   "cell_type": "code",
   "execution_count": 9,
   "metadata": {},
   "outputs": [
    {
     "name": "stdout",
     "output_type": "stream",
     "text": [
      "以下に、あるタスクを説明する指示があり、それに付随する入力が更なる文脈を提供しています。リクエストを適切に完了するための回答を記述してください。\n",
      "\n",
      "### 指示:\n",
      "入力内用はとあるソフトウェアのインターフェースを説明した文章です。入力内用を英語に翻訳してください。また、応答には翻訳した文章のみを出力してください\n",
      "\n",
      "### 入力:\n",
      "View のコンストラクタが引数として ViewModel を要求する場合は、このメソッド引数の ViewModel を渡します。\n",
      "\n",
      "### 応答:The method parameter can accept a ViewModel as a second argument, if a View's constructor is called with that second argument.\n"
     ]
    }
   ],
   "source": [
    "# Example usage\n",
    "instruction_example = \"入力内用はとあるソフトウェアのインターフェースを説明した文章です。入力内用を英語に翻訳してください。また、応答には翻訳した文章のみを出力してください\"\n",
    "input_example = \"View のコンストラクタが引数として ViewModel を要求する場合は、このメソッド引数の ViewModel を渡します。\"\n",
    "prompt = create_prompt(instruction_example, input_example)\n",
    "\n",
    "input_ids = tokenizer.encode(\n",
    "    prompt,\n",
    "    add_special_tokens=False,\n",
    "    return_tensors=\"pt\"\n",
    ")\n",
    "\n",
    "tokens = model.generate(\n",
    "    input_ids.to(device=model.device),\n",
    "    max_new_tokens=128,\n",
    "    temperature=0.99,\n",
    "    top_p=0.95,\n",
    "    do_sample=True,\n",
    ")\n",
    "\n",
    "out = tokenizer.decode(tokens[0], skip_special_tokens=True)\n",
    "print(out)"
   ]
  }
 ],
 "metadata": {
  "kernelspec": {
   "display_name": ".venv",
   "language": "python",
   "name": "python3"
  },
  "language_info": {
   "codemirror_mode": {
    "name": "ipython",
    "version": 3
   },
   "file_extension": ".py",
   "mimetype": "text/x-python",
   "name": "python",
   "nbconvert_exporter": "python",
   "pygments_lexer": "ipython3",
   "version": "3.11.5"
  }
 },
 "nbformat": 4,
 "nbformat_minor": 2
}
