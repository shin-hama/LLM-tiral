{
 "cells": [
  {
   "cell_type": "markdown",
   "metadata": {},
   "source": [
    "# CohereForAI/aya-101\n",
    "\n",
    "<https://huggingface.co/CohereForAI/aya-101>\n",
    "\n",
    "The Aya model is a massively multilingual generative language model that follows instructions in 101 languages. Aya outperforms mT0 and BLOOMZ a wide variety of automatic and human evaluations despite covering double the number of languages. The Aya model is trained using xP3x, Aya Dataset, Aya Collection, a subset of DataProvenance collection and ShareGPT-Command. We release the checkpoints under a Apache-2.0 license to further our mission of multilingual technologies empowering a multilingual world."
   ]
  },
  {
   "cell_type": "code",
   "execution_count": 2,
   "metadata": {},
   "outputs": [],
   "source": [
    "# Proxy の無効化\n",
    "\n",
    "!set HTTP_PROXY=\"\"\n",
    "!set HTTPS_PROXY=\"\"\n",
    "\n",
    "import sys,os,os.path\n",
    "\n",
    "os.environ['HTTP_PROXY']=\"\"\n",
    "os.environ['HTTPS_PROXY']=\"\""
   ]
  },
  {
   "cell_type": "code",
   "execution_count": 3,
   "metadata": {},
   "outputs": [
    {
     "name": "stderr",
     "output_type": "stream",
     "text": [
      "model-00003-of-00011.safetensors: 100%|██████████| 4.97G/4.97G [06:29<00:00, 12.8MB/s]\n",
      "model-00004-of-00011.safetensors: 100%|██████████| 4.90G/4.90G [01:31<00:00, 53.4MB/s]\n",
      "model-00005-of-00011.safetensors: 100%|██████████| 4.97G/4.97G [01:49<00:00, 45.2MB/s]\n",
      "model-00006-of-00011.safetensors: 100%|██████████| 4.97G/4.97G [01:41<00:00, 48.9MB/s]\n",
      "model-00007-of-00011.safetensors: 100%|██████████| 4.87G/4.87G [02:06<00:00, 38.6MB/s]\n",
      "model-00008-of-00011.safetensors: 100%|██████████| 5.00G/5.00G [01:34<00:00, 52.7MB/s]\n",
      "model-00009-of-00011.safetensors: 100%|██████████| 5.00G/5.00G [01:32<00:00, 54.2MB/s]\n",
      "model-00010-of-00011.safetensors: 100%|██████████| 2.99G/2.99G [01:02<00:00, 48.0MB/s]\n",
      "model-00011-of-00011.safetensors: 100%|██████████| 4.10G/4.10G [01:31<00:00, 44.8MB/s]\n",
      "Downloading shards: 100%|██████████| 11/11 [19:26<00:00, 106.04s/it]\n",
      "Loading checkpoint shards: 100%|██████████| 11/11 [01:19<00:00,  7.20s/it]\n",
      "generation_config.json: 100%|██████████| 142/142 [00:00<?, ?B/s] \n"
     ]
    }
   ],
   "source": [
    "from transformers import AutoModelForSeq2SeqLM, AutoTokenizer\n",
    "\n",
    "checkpoint = \"CohereForAI/aya-101\"\n",
    "\n",
    "tokenizer = AutoTokenizer.from_pretrained(checkpoint)\n",
    "aya_model = AutoModelForSeq2SeqLM.from_pretrained(checkpoint)"
   ]
  },
  {
   "cell_type": "code",
   "execution_count": 5,
   "metadata": {},
   "outputs": [],
   "source": [
    "def create_prompt(text: str) -> str:\n",
    "    return f\"Translate to English: {text}\""
   ]
  },
  {
   "cell_type": "code",
   "execution_count": 11,
   "metadata": {},
   "outputs": [
    {
     "name": "stdout",
     "output_type": "stream",
     "text": [
      "<pad> 指定された実装型を指定された型に紐づけて、ライフライクル (スコープ) をシングルトンとしてコンテナに登録する</s>\n"
     ]
    }
   ],
   "source": [
    "# Aya is a multi-lingual language model\n",
    "# Japanese to English translation\n",
    "ja_inputs = tokenizer.encode(create_prompt(\"指定された実装型を、指定された型に紐づけて、ライフライクル (スコープ) を Singleton として、コンテナに登録する\"), return_tensors=\"pt\")\n",
    "tur_outputs = aya_model.generate(ja_inputs, max_new_tokens=128)\n",
    "print(tokenizer.decode(tur_outputs[0]))"
   ]
  },
  {
   "cell_type": "code",
   "execution_count": 8,
   "metadata": {},
   "outputs": [
    {
     "name": "stdout",
     "output_type": "stream",
     "text": [
      "input: 指定された ID に紐づけられた型を取得する\n",
      "\n",
      "Get the model associated with the given ID.\n",
      "\n",
      "===\n",
      "\n",
      "input: View のコンストラクタが引数として ViewModel を要求する場合は、このメソッド引数の ViewModel を渡します。\n",
      "\n",
      "If the view constructor takes a viewModel as an argument, you pass the provided ViewModel as the argument to this method.\n",
      "\n",
      "===\n",
      "\n",
      "input: カメラの動作状態を格納するクラスです。\n",
      "\n",
      "It's a class that saves the camera's working state.\n",
      "\n",
      "===\n",
      "\n",
      "input: IN/OUT状態を表す列挙型です。\n",
      "\n",
      "This is a table showing IN/OUT states.\n",
      "\n",
      "===\n",
      "\n",
      "input: 指定された型に対する登録が複数ある場合のための、登録内容を識別する名前 (キー)\n",
      "\n",
      "For multiple entries for the specified type, there is a name (key) that can identify the entries.\n",
      "\n",
      "===\n",
      "\n",
      "input: 登録されていれば <a href=\"https://learn.microsoft.com/dotnet/csharp/language-reference/builtin-types/bool\">true</a> を返し、そうでない場合は <a href=\"https://learn.microsoft.com/dotnet/csharp/language-reference/builtin-types/bool\">false</a> を返します。\n",
      "\n",
      "If it's logged in, it returns true, but if not, it returns false.\n",
      "\n",
      "===\n",
      "\n",
      "input: 指定された実装型を、指定された型に紐づけて、ライフライクル (スコープ) を Singleton として、コンテナに登録する\n",
      "\n",
      "指定された実装型を指定された型にアシストし,指定された型からライフライクル (スコープ) をシングルトンとしてコンテナに登録します.\n",
      "\n",
      "===\n",
      "\n",
      "input: 登録されていれば\n",
      "\n",
      "It's listed there.\n",
      "\n",
      "===\n",
      "\n",
      "input: true\n",
      "\n",
      "My wife's.\n",
      "\n",
      "===\n",
      "\n",
      "input: を返し、そうでない場合は\n",
      "\n",
      "Don't throw it, that way it won't go away.\n",
      "\n",
      "===\n",
      "\n",
      "input: false\n",
      "\n",
      "false\n",
      "\n",
      "===\n",
      "\n",
      "input: を返します。\n",
      "\n",
      "Will return.\n",
      "\n",
      "===\n",
      "\n"
     ]
    }
   ],
   "source": [
    "# read input file\n",
    "file_name = \"../inputs.txt\"\n",
    "with open(file_name, \"r\", encoding=\"utf-8\") as f:\n",
    "    lines = f.readlines()\n",
    "\n",
    "for line in lines:\n",
    "    prompt = create_prompt(line)\n",
    "\n",
    "    input_ids = tokenizer.encode(\n",
    "        prompt,\n",
    "        add_special_tokens=False,\n",
    "        return_tensors=\"pt\"\n",
    "    )\n",
    "\n",
    "    tokens = aya_model.generate(\n",
    "        input_ids.to(device=aya_model.device),\n",
    "        max_new_tokens=128,\n",
    "        temperature=0.99,\n",
    "        top_p=0.95,\n",
    "        do_sample=True,\n",
    "    )\n",
    "\n",
    "    out = tokenizer.decode(tokens[0], skip_special_tokens=True)\n",
    "    print(f\"input: {line}\")\n",
    "    print(out)\n",
    "    print(\"\\n===\\n\")"
   ]
  }
 ],
 "metadata": {
  "kernelspec": {
   "display_name": ".venv",
   "language": "python",
   "name": "python3"
  },
  "language_info": {
   "codemirror_mode": {
    "name": "ipython",
    "version": 3
   },
   "file_extension": ".py",
   "mimetype": "text/x-python",
   "name": "python",
   "nbconvert_exporter": "python",
   "pygments_lexer": "ipython3",
   "version": "3.11.5"
  }
 },
 "nbformat": 4,
 "nbformat_minor": 2
}
