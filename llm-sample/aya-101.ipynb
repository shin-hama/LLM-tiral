{
 "cells": [
  {
   "cell_type": "markdown",
   "metadata": {},
   "source": [
    "# CohereForAI/aya-101\n",
    "\n",
    "<https://huggingface.co/CohereForAI/aya-101>\n",
    "\n",
    "The Aya model is a massively multilingual generative language model that follows instructions in 101 languages. Aya outperforms mT0 and BLOOMZ a wide variety of automatic and human evaluations despite covering double the number of languages. The Aya model is trained using xP3x, Aya Dataset, Aya Collection, a subset of DataProvenance collection and ShareGPT-Command. We release the checkpoints under a Apache-2.0 license to further our mission of multilingual technologies empowering a multilingual world."
   ]
  },
  {
   "cell_type": "code",
   "execution_count": 2,
   "metadata": {},
   "outputs": [],
   "source": [
    "# Proxy の無効化\n",
    "\n",
    "!set HTTP_PROXY=\"\"\n",
    "!set HTTPS_PROXY=\"\"\n",
    "\n",
    "import sys,os,os.path\n",
    "\n",
    "os.environ['HTTP_PROXY']=\"\"\n",
    "os.environ['HTTPS_PROXY']=\"\""
   ]
  },
  {
   "cell_type": "code",
   "execution_count": 2,
   "metadata": {},
   "outputs": [
    {
     "name": "stderr",
     "output_type": "stream",
     "text": [
      "c:\\Users\\hamada\\workspace\\test\\llm\\.venv\\Lib\\site-packages\\tqdm\\auto.py:21: TqdmWarning: IProgress not found. Please update jupyter and ipywidgets. See https://ipywidgets.readthedocs.io/en/stable/user_install.html\n",
      "  from .autonotebook import tqdm as notebook_tqdm\n",
      "Loading checkpoint shards: 100%|██████████| 11/11 [01:14<00:00,  6.79s/it]\n"
     ]
    }
   ],
   "source": [
    "from transformers import AutoModelForSeq2SeqLM, AutoTokenizer\n",
    "\n",
    "checkpoint = \"CohereForAI/aya-101\"\n",
    "\n",
    "tokenizer = AutoTokenizer.from_pretrained(checkpoint)\n",
    "aya_model = AutoModelForSeq2SeqLM.from_pretrained(checkpoint)"
   ]
  },
  {
   "cell_type": "code",
   "execution_count": 3,
   "metadata": {},
   "outputs": [],
   "source": [
    "def create_prompt(text: str) -> str:\n",
    "    return f\"Translate Japanese into English: {text}\""
   ]
  },
  {
   "cell_type": "markdown",
   "metadata": {},
   "source": [
    "## 翻訳処理\n",
    "\n",
    "model.generate() で翻訳\n",
    "パラメータで Token 数を指定しておかないと、長文を翻訳できずに日本語で返ってくることがあるので注意"
   ]
  },
  {
   "cell_type": "code",
   "execution_count": 7,
   "metadata": {},
   "outputs": [
    {
     "name": "stdout",
     "output_type": "stream",
     "text": [
      "The container will become a Singleton with a specified deployment style, which will join the specified style to a specified configuration, and a specific lifestyle (scope).\n"
     ]
    }
   ],
   "source": [
    "# Aya is a multi-lingual language model\n",
    "# Japanese to English translation\n",
    "ja_inputs = tokenizer.encode(create_prompt(\"指定された実装型を、指定された型に紐づけて、ライフライクル (スコープ) を Singleton として、コンテナに登録する\"), return_tensors=\"pt\")\n",
    "tur_outputs = aya_model.generate(\n",
    "    ja_inputs,\n",
    "    max_new_tokens=1024,\n",
    "    temperature=0.99,\n",
    "    top_p=0.95,\n",
    "    top_k=0,\n",
    "    do_sample=True\n",
    ")\n",
    "\n",
    "print(tokenizer.decode(\n",
    "    tur_outputs[0],\n",
    "    skip_special_tokens=True))"
   ]
  },
  {
   "cell_type": "code",
   "execution_count": 8,
   "metadata": {},
   "outputs": [
    {
     "name": "stdout",
     "output_type": "stream",
     "text": [
      "input: 指定された ID に紐づけられた型を取得する\n",
      "\n",
      "Get the model associated with the given ID.\n",
      "\n",
      "===\n",
      "\n",
      "input: View のコンストラクタが引数として ViewModel を要求する場合は、このメソッド引数の ViewModel を渡します。\n",
      "\n",
      "If the view constructor takes a viewModel as an argument, you pass the provided ViewModel as the argument to this method.\n",
      "\n",
      "===\n",
      "\n",
      "input: カメラの動作状態を格納するクラスです。\n",
      "\n",
      "It's a class that saves the camera's working state.\n",
      "\n",
      "===\n",
      "\n",
      "input: IN/OUT状態を表す列挙型です。\n",
      "\n",
      "This is a table showing IN/OUT states.\n",
      "\n",
      "===\n",
      "\n",
      "input: 指定された型に対する登録が複数ある場合のための、登録内容を識別する名前 (キー)\n",
      "\n",
      "For multiple entries for the specified type, there is a name (key) that can identify the entries.\n",
      "\n",
      "===\n",
      "\n",
      "input: 登録されていれば <a href=\"https://learn.microsoft.com/dotnet/csharp/language-reference/builtin-types/bool\">true</a> を返し、そうでない場合は <a href=\"https://learn.microsoft.com/dotnet/csharp/language-reference/builtin-types/bool\">false</a> を返します。\n",
      "\n",
      "If it's logged in, it returns true, but if not, it returns false.\n",
      "\n",
      "===\n",
      "\n",
      "input: 指定された実装型を、指定された型に紐づけて、ライフライクル (スコープ) を Singleton として、コンテナに登録する\n",
      "\n",
      "指定された実装型を指定された型にアシストし,指定された型からライフライクル (スコープ) をシングルトンとしてコンテナに登録します.\n",
      "\n",
      "===\n",
      "\n",
      "input: 登録されていれば\n",
      "\n",
      "It's listed there.\n",
      "\n",
      "===\n",
      "\n",
      "input: true\n",
      "\n",
      "My wife's.\n",
      "\n",
      "===\n",
      "\n",
      "input: を返し、そうでない場合は\n",
      "\n",
      "Don't throw it, that way it won't go away.\n",
      "\n",
      "===\n",
      "\n",
      "input: false\n",
      "\n",
      "false\n",
      "\n",
      "===\n",
      "\n",
      "input: を返します。\n",
      "\n",
      "Will return.\n",
      "\n",
      "===\n",
      "\n"
     ]
    }
   ],
   "source": [
    "# read input file\n",
    "file_name = \"../inputs.txt\"\n",
    "with open(file_name, \"r\", encoding=\"utf-8\") as f:\n",
    "    lines = f.readlines()\n",
    "\n",
    "for line in lines:\n",
    "    prompt = create_prompt(line)\n",
    "\n",
    "    input_ids = tokenizer.encode(\n",
    "        prompt,\n",
    "        add_special_tokens=False,\n",
    "        return_tensors=\"pt\"\n",
    "    )\n",
    "\n",
    "    tokens = aya_model.generate(\n",
    "        input_ids.to(device=aya_model.device),\n",
    "        max_new_tokens=128,\n",
    "        temperature=0.99,\n",
    "        top_p=0.95,\n",
    "        do_sample=True,\n",
    "    )\n",
    "\n",
    "    out = tokenizer.decode(tokens[0], skip_special_tokens=True)\n",
    "    print(f\"input: {line}\")\n",
    "    print(out)\n",
    "    print(\"\\n===\\n\")"
   ]
  }
 ],
 "metadata": {
  "kernelspec": {
   "display_name": ".venv",
   "language": "python",
   "name": "python3"
  },
  "language_info": {
   "codemirror_mode": {
    "name": "ipython",
    "version": 3
   },
   "file_extension": ".py",
   "mimetype": "text/x-python",
   "name": "python",
   "nbconvert_exporter": "python",
   "pygments_lexer": "ipython3",
   "version": "3.11.5"
  }
 },
 "nbformat": 4,
 "nbformat_minor": 2
}
