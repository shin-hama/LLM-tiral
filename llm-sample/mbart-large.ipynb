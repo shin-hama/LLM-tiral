{
 "cells": [
  {
   "cell_type": "markdown",
   "metadata": {},
   "source": [
    "# facebook/mbart-large-50-many-to-many-mmt\n",
    "\n",
    "<https://huggingface.co/facebook/mbart-large-50-many-to-many-mmt>\n",
    "\n",
    "This model is a fine-tuned checkpoint of mBART-large-50. mbart-large-50-many-to-many-mmt is fine-tuned for multilingual machine translation. It was introduced in Multilingual Translation with Extensible Multilingual Pretraining and Finetuning paper."
   ]
  },
  {
   "cell_type": "code",
   "execution_count": 1,
   "metadata": {},
   "outputs": [
    {
     "name": "stderr",
     "output_type": "stream",
     "text": [
      "c:\\Users\\hamada\\workspace\\test\\llm\\.venv\\Lib\\site-packages\\tqdm\\auto.py:21: TqdmWarning: IProgress not found. Please update jupyter and ipywidgets. See https://ipywidgets.readthedocs.io/en/stable/user_install.html\n",
      "  from .autonotebook import tqdm as notebook_tqdm\n",
      "config.json: 100%|██████████| 1.43k/1.43k [00:00<00:00, 1.43MB/s]\n",
      "c:\\Users\\hamada\\workspace\\test\\llm\\.venv\\Lib\\site-packages\\huggingface_hub\\file_download.py:149: UserWarning: `huggingface_hub` cache-system uses symlinks by default to efficiently store duplicated files but your machine does not support them in C:\\Users\\hamada\\.cache\\huggingface\\hub\\models--facebook--mbart-large-50-many-to-many-mmt. Caching files will still work but in a degraded version that might require more space on your disk. This warning can be disabled by setting the `HF_HUB_DISABLE_SYMLINKS_WARNING` environment variable. For more details, see https://huggingface.co/docs/huggingface_hub/how-to-cache#limitations.\n",
      "To support symlinks on Windows, you either need to activate Developer Mode or to run Python as an administrator. In order to see activate developer mode, see this article: https://docs.microsoft.com/en-us/windows/apps/get-started/enable-your-device-for-development\n",
      "  warnings.warn(message)\n",
      "model.safetensors: 100%|██████████| 2.44G/2.44G [03:36<00:00, 11.3MB/s]\n",
      "generation_config.json: 100%|██████████| 261/261 [00:00<00:00, 273kB/s]\n",
      "tokenizer_config.json: 100%|██████████| 529/529 [00:00<00:00, 532kB/s]\n",
      "sentencepiece.bpe.model: 100%|██████████| 5.07M/5.07M [00:00<00:00, 10.6MB/s]\n",
      "special_tokens_map.json: 100%|██████████| 649/649 [00:00<00:00, 638kB/s]\n"
     ]
    }
   ],
   "source": [
    "from transformers import MBartForConditionalGeneration, MBart50TokenizerFast\n",
    "\n",
    "\n",
    "model = MBartForConditionalGeneration.from_pretrained(\"facebook/mbart-large-50-many-to-many-mmt\")\n",
    "tokenizer = MBart50TokenizerFast.from_pretrained(\"facebook/mbart-large-50-many-to-many-mmt\")"
   ]
  },
  {
   "cell_type": "code",
   "execution_count": 2,
   "metadata": {},
   "outputs": [
    {
     "data": {
      "text/plain": [
       "['If the View constructor requests the ViewModel as an argument, pass the ViewModel of this method argument.']"
      ]
     },
     "execution_count": 2,
     "metadata": {},
     "output_type": "execute_result"
    }
   ],
   "source": [
    "article_ja = \"View のコンストラクタが引数として ViewModel を要求する場合は、このメソッド引数の ViewModel を渡します。\"\n",
    "\n",
    "# translate Arabic to English\n",
    "tokenizer.src_lang = \"ja_XX\"\n",
    "encoded_ar = tokenizer(article_ja, return_tensors=\"pt\")\n",
    "generated_tokens = model.generate(\n",
    "    **encoded_ar,\n",
    "    forced_bos_token_id=tokenizer.lang_code_to_id[\"en_XX\"]\n",
    ")\n",
    "tokenizer.batch_decode(generated_tokens, skip_special_tokens=True)"
   ]
  },
  {
   "cell_type": "code",
   "execution_count": 3,
   "metadata": {},
   "outputs": [
    {
     "name": "stdout",
     "output_type": "stream",
     "text": [
      "input: 指定された ID に紐づけられた型を取得する\n",
      "\n",
      "['Get a type associated with the specified ID']\n",
      "\n",
      "===\n",
      "\n",
      "input: View のコンストラクタが引数として ViewModel を要求する場合は、このメソッド引数の ViewModel を渡します。\n",
      "\n",
      "['If the View constructor requests the ViewModel as an argument, pass the ViewModel of this method argument.']\n",
      "\n",
      "===\n",
      "\n",
      "input: カメラの動作状態を格納するクラスです。\n",
      "\n",
      "[\"It is a class to store the camera's operating state.\"]\n",
      "\n",
      "===\n",
      "\n",
      "input: IN/OUT状態を表す列挙型です。\n",
      "\n",
      "['It is a sequence type that represents the IN/OUT state.']\n",
      "\n",
      "===\n",
      "\n",
      "input: 指定された型に対する登録が複数ある場合のための、登録内容を識別する名前 (キー)\n",
      "\n",
      "['Name (key) to identify the registration contents when there are multiple registrations for the specified type']\n",
      "\n",
      "===\n",
      "\n",
      "input: 登録されていれば <a href=\"https://learn.microsoft.com/dotnet/csharp/language-reference/builtin-types/bool\">true</a> を返し、そうでない場合は <a href=\"https://learn.microsoft.com/dotnet/csharp/language-reference/builtin-types/bool\">false</a> を返します。\n",
      "\n",
      "['If you are registered, return <a href=\"https://learn.microsoft.com/dotnet/csharp/language-reference/builtin-types/bool\">true</a> or <a href=\"https://learn.microsoft.com/dotnet/csharp/language-reference/builtin-types/bool\">false</a>.']\n",
      "\n",
      "===\n",
      "\n",
      "input: 指定された実装型を、指定された型に紐づけて、ライフライクル (スコープ) を Singleton として、コンテナに登録する\n",
      "\n",
      "['Connect the specified implementation type to the specified type and register the lifecycle (scope) as Singleton in the container']\n",
      "\n",
      "===\n",
      "\n",
      "input: 登録されていれば\n",
      "\n",
      "[\"if you're registered\"]\n",
      "\n",
      "===\n",
      "\n",
      "input: true\n",
      "\n",
      "['true']\n",
      "\n",
      "===\n",
      "\n",
      "input: を返し、そうでない場合は\n",
      "\n",
      "[\"and if we don't\"]\n",
      "\n",
      "===\n",
      "\n",
      "input: false\n",
      "\n",
      "['false']\n",
      "\n",
      "===\n",
      "\n",
      "input: を返します。\n",
      "\n",
      "['is returned.']\n",
      "\n",
      "===\n",
      "\n"
     ]
    }
   ],
   "source": [
    "# read input file\n",
    "file_name = \"../inputs.txt\"\n",
    "with open(file_name, \"r\", encoding=\"utf-8\") as f:\n",
    "    lines = f.readlines()\n",
    "\n",
    "for line in lines:\n",
    "    tokenizer.src_lang = \"ja_XX\"\n",
    "    encoded_prompt = tokenizer(line, return_tensors=\"pt\")\n",
    "\n",
    "    tokens = model.generate(\n",
    "        **encoded_prompt,\n",
    "        forced_bos_token_id=tokenizer.lang_code_to_id[\"en_XX\"],\n",
    "        max_new_tokens=512,\n",
    "        temperature=0.99,\n",
    "        top_p=0.95,\n",
    "        top_k=0,\n",
    "        do_sample=True,\n",
    "    )\n",
    "\n",
    "    out = tokenizer.batch_decode(tokens, skip_special_tokens=True)\n",
    "    print(f\"input: {line}\")\n",
    "    print(out)\n",
    "    print(\"\\n===\\n\")"
   ]
  }
 ],
 "metadata": {
  "kernelspec": {
   "display_name": ".venv",
   "language": "python",
   "name": "python3"
  },
  "language_info": {
   "codemirror_mode": {
    "name": "ipython",
    "version": 3
   },
   "file_extension": ".py",
   "mimetype": "text/x-python",
   "name": "python",
   "nbconvert_exporter": "python",
   "pygments_lexer": "ipython3",
   "version": "3.11.5"
  }
 },
 "nbformat": 4,
 "nbformat_minor": 2
}
