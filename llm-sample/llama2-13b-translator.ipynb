{
 "cells": [
  {
   "cell_type": "markdown",
   "metadata": {},
   "source": [
    "# SnypzZz/Llama2-13b-Language-translate\n",
    "\n",
    "<https://huggingface.co/SnypzZz/Llama2-13b-Language-translate>\n",
    "\n",
    "This model is a fine-tuned checkpoint of TheBloke-Llama-2-13B. mbart-large-50-one-to-many-mmt is fine-tuned for multilingual machine translation. It was introduced in Multilingual Translation with Extensible Multilingual Pretraining and Finetuning paper."
   ]
  },
  {
   "cell_type": "code",
   "execution_count": 1,
   "metadata": {},
   "outputs": [
    {
     "name": "stderr",
     "output_type": "stream",
     "text": [
      "c:\\Users\\hamada\\workspace\\test\\llm\\.venv\\Lib\\site-packages\\tqdm\\auto.py:21: TqdmWarning: IProgress not found. Please update jupyter and ipywidgets. See https://ipywidgets.readthedocs.io/en/stable/user_install.html\n",
      "  from .autonotebook import tqdm as notebook_tqdm\n"
     ]
    }
   ],
   "source": [
    "from transformers import MBartForConditionalGeneration, MBart50TokenizerFast\n",
    "\n",
    "\n",
    "model = MBartForConditionalGeneration.from_pretrained(\"SnypzZz/Llama2-13b-Language-translate\")\n",
    "tokenizer = MBart50TokenizerFast.from_pretrained(\"SnypzZz/Llama2-13b-Language-translate\", src_lang=\"ja_XX\")"
   ]
  },
  {
   "cell_type": "code",
   "execution_count": 2,
   "metadata": {},
   "outputs": [
    {
     "data": {
      "text/plain": [
       "['View のコンストラクタが引数として ViewModel を要求する場合は、このメソッド引数の ViewModel を渡します。']"
      ]
     },
     "execution_count": 2,
     "metadata": {},
     "output_type": "execute_result"
    }
   ],
   "source": [
    "article_ja = \"View のコンストラクタが引数として ViewModel を要求する場合は、このメソッド引数の ViewModel を渡します。\"\n",
    "model_inputs = tokenizer(article_ja, return_tensors=\"pt\")\n",
    "\n",
    "# translate from English to Chinese\n",
    "generated_tokens = model.generate(\n",
    "    **model_inputs,\n",
    "    forced_bos_token_id=tokenizer.lang_code_to_id[\"en_XX\"]\n",
    ")\n",
    "tokenizer.batch_decode(generated_tokens, skip_special_tokens=True)"
   ]
  }
 ],
 "metadata": {
  "kernelspec": {
   "display_name": ".venv",
   "language": "python",
   "name": "python3"
  },
  "language_info": {
   "codemirror_mode": {
    "name": "ipython",
    "version": 3
   },
   "file_extension": ".py",
   "mimetype": "text/x-python",
   "name": "python",
   "nbconvert_exporter": "python",
   "pygments_lexer": "ipython3",
   "version": "3.11.5"
  }
 },
 "nbformat": 4,
 "nbformat_minor": 2
}
